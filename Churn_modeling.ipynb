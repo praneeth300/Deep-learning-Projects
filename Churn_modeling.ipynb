{
  "nbformat": 4,
  "nbformat_minor": 0,
  "metadata": {
    "colab": {
      "name": "Untitled",
      "provenance": []
    },
    "kernelspec": {
      "name": "python3",
      "display_name": "Python 3"
    },
    "accelerator": "GPU"
  },
  "cells": [
    {
      "cell_type": "code",
      "metadata": {
        "id": "6SaFq5jjEsqf",
        "colab_type": "code",
        "colab": {}
      },
      "source": [
        "#Import the librarys\n",
        "import pandas as pd\n",
        "import numpy as np\n",
        "import matplotlib.pyplot as plt\n",
        "%matplotlib inline"
      ],
      "execution_count": null,
      "outputs": []
    },
    {
      "cell_type": "code",
      "metadata": {
        "id": "gocFyfMvGd1T",
        "colab_type": "code",
        "colab": {
          "base_uri": "https://localhost:8080/",
          "height": 54
        },
        "outputId": "02e5cdb2-e380-4261-da2c-fd199f8ef327"
      },
      "source": [
        "from google.colab import drive\n",
        "drive.mount('/content/drive')"
      ],
      "execution_count": null,
      "outputs": [
        {
          "output_type": "stream",
          "text": [
            "Drive already mounted at /content/drive; to attempt to forcibly remount, call drive.mount(\"/content/drive\", force_remount=True).\n"
          ],
          "name": "stdout"
        }
      ]
    },
    {
      "cell_type": "code",
      "metadata": {
        "id": "nr3TeGr9GgBA",
        "colab_type": "code",
        "colab": {
          "base_uri": "https://localhost:8080/",
          "height": 204
        },
        "outputId": "fb2e7957-2b60-4abf-fe22-5f005055f7dc"
      },
      "source": [
        "data=pd.read_csv('/content/drive/My Drive/Colab Notebooks/datasets_729058_1265963_Churn_Modelling.csv')\n",
        "data.head()"
      ],
      "execution_count": 14,
      "outputs": [
        {
          "output_type": "execute_result",
          "data": {
            "text/html": [
              "<div>\n",
              "<style scoped>\n",
              "    .dataframe tbody tr th:only-of-type {\n",
              "        vertical-align: middle;\n",
              "    }\n",
              "\n",
              "    .dataframe tbody tr th {\n",
              "        vertical-align: top;\n",
              "    }\n",
              "\n",
              "    .dataframe thead th {\n",
              "        text-align: right;\n",
              "    }\n",
              "</style>\n",
              "<table border=\"1\" class=\"dataframe\">\n",
              "  <thead>\n",
              "    <tr style=\"text-align: right;\">\n",
              "      <th></th>\n",
              "      <th>RowNumber</th>\n",
              "      <th>CustomerId</th>\n",
              "      <th>Surname</th>\n",
              "      <th>CreditScore</th>\n",
              "      <th>Geography</th>\n",
              "      <th>Gender</th>\n",
              "      <th>Age</th>\n",
              "      <th>Tenure</th>\n",
              "      <th>Balance</th>\n",
              "      <th>NumOfProducts</th>\n",
              "      <th>HasCrCard</th>\n",
              "      <th>IsActiveMember</th>\n",
              "      <th>EstimatedSalary</th>\n",
              "      <th>Exited</th>\n",
              "    </tr>\n",
              "  </thead>\n",
              "  <tbody>\n",
              "    <tr>\n",
              "      <th>0</th>\n",
              "      <td>1</td>\n",
              "      <td>15634602</td>\n",
              "      <td>Hargrave</td>\n",
              "      <td>619</td>\n",
              "      <td>France</td>\n",
              "      <td>Female</td>\n",
              "      <td>42</td>\n",
              "      <td>2</td>\n",
              "      <td>0.00</td>\n",
              "      <td>1</td>\n",
              "      <td>1</td>\n",
              "      <td>1</td>\n",
              "      <td>101348.88</td>\n",
              "      <td>1</td>\n",
              "    </tr>\n",
              "    <tr>\n",
              "      <th>1</th>\n",
              "      <td>2</td>\n",
              "      <td>15647311</td>\n",
              "      <td>Hill</td>\n",
              "      <td>608</td>\n",
              "      <td>Spain</td>\n",
              "      <td>Female</td>\n",
              "      <td>41</td>\n",
              "      <td>1</td>\n",
              "      <td>83807.86</td>\n",
              "      <td>1</td>\n",
              "      <td>0</td>\n",
              "      <td>1</td>\n",
              "      <td>112542.58</td>\n",
              "      <td>0</td>\n",
              "    </tr>\n",
              "    <tr>\n",
              "      <th>2</th>\n",
              "      <td>3</td>\n",
              "      <td>15619304</td>\n",
              "      <td>Onio</td>\n",
              "      <td>502</td>\n",
              "      <td>France</td>\n",
              "      <td>Female</td>\n",
              "      <td>42</td>\n",
              "      <td>8</td>\n",
              "      <td>159660.80</td>\n",
              "      <td>3</td>\n",
              "      <td>1</td>\n",
              "      <td>0</td>\n",
              "      <td>113931.57</td>\n",
              "      <td>1</td>\n",
              "    </tr>\n",
              "    <tr>\n",
              "      <th>3</th>\n",
              "      <td>4</td>\n",
              "      <td>15701354</td>\n",
              "      <td>Boni</td>\n",
              "      <td>699</td>\n",
              "      <td>France</td>\n",
              "      <td>Female</td>\n",
              "      <td>39</td>\n",
              "      <td>1</td>\n",
              "      <td>0.00</td>\n",
              "      <td>2</td>\n",
              "      <td>0</td>\n",
              "      <td>0</td>\n",
              "      <td>93826.63</td>\n",
              "      <td>0</td>\n",
              "    </tr>\n",
              "    <tr>\n",
              "      <th>4</th>\n",
              "      <td>5</td>\n",
              "      <td>15737888</td>\n",
              "      <td>Mitchell</td>\n",
              "      <td>850</td>\n",
              "      <td>Spain</td>\n",
              "      <td>Female</td>\n",
              "      <td>43</td>\n",
              "      <td>2</td>\n",
              "      <td>125510.82</td>\n",
              "      <td>1</td>\n",
              "      <td>1</td>\n",
              "      <td>1</td>\n",
              "      <td>79084.10</td>\n",
              "      <td>0</td>\n",
              "    </tr>\n",
              "  </tbody>\n",
              "</table>\n",
              "</div>"
            ],
            "text/plain": [
              "   RowNumber  CustomerId   Surname  ...  IsActiveMember EstimatedSalary Exited\n",
              "0          1    15634602  Hargrave  ...               1       101348.88      1\n",
              "1          2    15647311      Hill  ...               1       112542.58      0\n",
              "2          3    15619304      Onio  ...               0       113931.57      1\n",
              "3          4    15701354      Boni  ...               0        93826.63      0\n",
              "4          5    15737888  Mitchell  ...               1        79084.10      0\n",
              "\n",
              "[5 rows x 14 columns]"
            ]
          },
          "metadata": {
            "tags": []
          },
          "execution_count": 14
        }
      ]
    },
    {
      "cell_type": "code",
      "metadata": {
        "id": "vBn82CDyJR6Z",
        "colab_type": "code",
        "colab": {
          "base_uri": "https://localhost:8080/",
          "height": 34
        },
        "outputId": "579a6db5-f3d0-4f12-a307-d7b392e96edb"
      },
      "source": [
        "#Shape of the data\n",
        "data.shape\n"
      ],
      "execution_count": 16,
      "outputs": [
        {
          "output_type": "execute_result",
          "data": {
            "text/plain": [
              "(10000, 14)"
            ]
          },
          "metadata": {
            "tags": []
          },
          "execution_count": 16
        }
      ]
    },
    {
      "cell_type": "code",
      "metadata": {
        "id": "1XF9TzRvKdJG",
        "colab_type": "code",
        "colab": {}
      },
      "source": [
        "x=data.iloc[:,3:-1]\n",
        "y=data.iloc[:,-1]"
      ],
      "execution_count": 17,
      "outputs": []
    },
    {
      "cell_type": "code",
      "metadata": {
        "id": "AwkhE3z1KjGa",
        "colab_type": "code",
        "colab": {
          "base_uri": "https://localhost:8080/",
          "height": 255
        },
        "outputId": "d809f0d3-1c9d-446f-a8de-3752e5cf8579"
      },
      "source": [
        "#X data\n",
        "print(x.head())\n",
        "print(y.head())"
      ],
      "execution_count": 18,
      "outputs": [
        {
          "output_type": "stream",
          "text": [
            "   CreditScore Geography  Gender  ...  HasCrCard  IsActiveMember  EstimatedSalary\n",
            "0          619    France  Female  ...          1               1        101348.88\n",
            "1          608     Spain  Female  ...          0               1        112542.58\n",
            "2          502    France  Female  ...          1               0        113931.57\n",
            "3          699    France  Female  ...          0               0         93826.63\n",
            "4          850     Spain  Female  ...          1               1         79084.10\n",
            "\n",
            "[5 rows x 10 columns]\n",
            "0    1\n",
            "1    0\n",
            "2    1\n",
            "3    0\n",
            "4    0\n",
            "Name: Exited, dtype: int64\n"
          ],
          "name": "stdout"
        }
      ]
    },
    {
      "cell_type": "code",
      "metadata": {
        "id": "bZQ_1lJPKlbZ",
        "colab_type": "code",
        "colab": {}
      },
      "source": [
        "#Create a dummy variables\n",
        "geo=pd.get_dummies(x['Geography'],drop_first=True)\n",
        "gender=pd.get_dummies(x['Gender'],drop_first=True)\n",
        "\n",
        "x=pd.concat([x,geo,gender],axis=1)"
      ],
      "execution_count": 19,
      "outputs": []
    },
    {
      "cell_type": "code",
      "metadata": {
        "id": "GaNAvdPiKowe",
        "colab_type": "code",
        "colab": {}
      },
      "source": [
        "x.drop(['Geography','Gender'],axis=1,inplace=True)"
      ],
      "execution_count": 20,
      "outputs": []
    },
    {
      "cell_type": "code",
      "metadata": {
        "id": "JQVTDEvLKq8T",
        "colab_type": "code",
        "colab": {}
      },
      "source": [
        "#Spliting the dataset in to train_test_split\n",
        "from sklearn.model_selection import train_test_split\n",
        "x_train,x_test,y_train,y_test=train_test_split(x,y,test_size=0.2,random_state=42)\n"
      ],
      "execution_count": 21,
      "outputs": []
    },
    {
      "cell_type": "code",
      "metadata": {
        "id": "RHAtn5KrKuJP",
        "colab_type": "code",
        "colab": {}
      },
      "source": [
        "#Feature scaling\n",
        "from sklearn.preprocessing import StandardScaler\n",
        "sc=StandardScaler()\n",
        "x_train=sc.fit_transform(x_train)\n",
        "x_test=sc.transform(x_test)"
      ],
      "execution_count": 22,
      "outputs": []
    },
    {
      "cell_type": "markdown",
      "metadata": {
        "id": "p5HvUdtVK8qs",
        "colab_type": "text"
      },
      "source": [
        "Artifical neural network\n",
        "Artificial Neural Networks (ANN) are multi-layer fully-connected neural nets. They consist of an input layer, multiple hidden layers, and an output layer. ... Training this deep neural network means learning the weights associated with all the edges."
      ]
    },
    {
      "cell_type": "code",
      "metadata": {
        "id": "np9pKiT5K-Gb",
        "colab_type": "code",
        "colab": {}
      },
      "source": [
        "#Now work on the ANN\n",
        "#Import the keras librarys and packages\n",
        "\n",
        "import keras\n",
        "from keras.models import Sequential\n",
        "from keras.layers import Dense,Flatten,Dropout\n",
        "from keras.layers import LeakyReLU,PReLU,ELU"
      ],
      "execution_count": 23,
      "outputs": []
    },
    {
      "cell_type": "code",
      "metadata": {
        "id": "ilK0aBuBLAoN",
        "colab_type": "code",
        "colab": {}
      },
      "source": [
        "#Intiallize the ANN\n",
        "classifier=Sequential()"
      ],
      "execution_count": 24,
      "outputs": []
    },
    {
      "cell_type": "code",
      "metadata": {
        "id": "dd-PoCHPLDcu",
        "colab_type": "code",
        "colab": {}
      },
      "source": [
        "#Adding the input layer and first hidden layer\n",
        "classifier.add(Dense(units=6,kernel_initializer='he_uniform',activation='relu',input_dim=11))\n",
        "#Adding second hidden layer\n",
        "classifier.add(Dense(units=6,kernel_initializer='he_uniform',activation='relu'))\n",
        "#Adding the output layer\n",
        "classifier.add(Dense(units=1,kernel_initializer='glorot_uniform',activation='sigmoid'))\n",
        "#Comiple the ANN\n",
        "classifier.compile(optimizer='Adamax',loss='binary_crossentropy',metrics=['accuracy'])"
      ],
      "execution_count": 27,
      "outputs": []
    },
    {
      "cell_type": "code",
      "metadata": {
        "id": "lP5AJ_lHLHUi",
        "colab_type": "code",
        "colab": {
          "base_uri": "https://localhost:8080/",
          "height": 1000
        },
        "outputId": "3cb26a9a-d64e-4ac8-b5ca-8689cdcc0fe8"
      },
      "source": [
        "#Fitting the ANN to the training file\n",
        "model_history=classifier.fit(x_train,y_train,validation_split=0.3,batch_size=100,epochs=100)"
      ],
      "execution_count": 30,
      "outputs": [
        {
          "output_type": "stream",
          "text": [
            "Epoch 1/100\n",
            "56/56 [==============================] - 0s 3ms/step - loss: 0.5198 - accuracy: 0.7970 - val_loss: 0.5232 - val_accuracy: 0.7887\n",
            "Epoch 2/100\n",
            "56/56 [==============================] - 0s 3ms/step - loss: 0.5111 - accuracy: 0.7970 - val_loss: 0.5164 - val_accuracy: 0.7887\n",
            "Epoch 3/100\n",
            "56/56 [==============================] - 0s 3ms/step - loss: 0.5046 - accuracy: 0.7970 - val_loss: 0.5116 - val_accuracy: 0.7887\n",
            "Epoch 4/100\n",
            "56/56 [==============================] - 0s 3ms/step - loss: 0.5002 - accuracy: 0.7970 - val_loss: 0.5085 - val_accuracy: 0.7887\n",
            "Epoch 5/100\n",
            "56/56 [==============================] - 0s 3ms/step - loss: 0.4971 - accuracy: 0.7970 - val_loss: 0.5062 - val_accuracy: 0.7887\n",
            "Epoch 6/100\n",
            "56/56 [==============================] - 0s 3ms/step - loss: 0.4946 - accuracy: 0.7970 - val_loss: 0.5040 - val_accuracy: 0.7887\n",
            "Epoch 7/100\n",
            "56/56 [==============================] - 0s 3ms/step - loss: 0.4922 - accuracy: 0.7970 - val_loss: 0.5018 - val_accuracy: 0.7887\n",
            "Epoch 8/100\n",
            "56/56 [==============================] - 0s 3ms/step - loss: 0.4899 - accuracy: 0.7970 - val_loss: 0.4996 - val_accuracy: 0.7887\n",
            "Epoch 9/100\n",
            "56/56 [==============================] - 0s 3ms/step - loss: 0.4875 - accuracy: 0.7970 - val_loss: 0.4973 - val_accuracy: 0.7887\n",
            "Epoch 10/100\n",
            "56/56 [==============================] - 0s 3ms/step - loss: 0.4852 - accuracy: 0.7970 - val_loss: 0.4949 - val_accuracy: 0.7887\n",
            "Epoch 11/100\n",
            "56/56 [==============================] - 0s 3ms/step - loss: 0.4827 - accuracy: 0.7970 - val_loss: 0.4925 - val_accuracy: 0.7887\n",
            "Epoch 12/100\n",
            "56/56 [==============================] - 0s 3ms/step - loss: 0.4803 - accuracy: 0.7970 - val_loss: 0.4901 - val_accuracy: 0.7887\n",
            "Epoch 13/100\n",
            "56/56 [==============================] - 0s 3ms/step - loss: 0.4777 - accuracy: 0.7970 - val_loss: 0.4876 - val_accuracy: 0.7887\n",
            "Epoch 14/100\n",
            "56/56 [==============================] - 0s 3ms/step - loss: 0.4751 - accuracy: 0.7970 - val_loss: 0.4850 - val_accuracy: 0.7887\n",
            "Epoch 15/100\n",
            "56/56 [==============================] - 0s 3ms/step - loss: 0.4723 - accuracy: 0.7970 - val_loss: 0.4823 - val_accuracy: 0.7887\n",
            "Epoch 16/100\n",
            "56/56 [==============================] - 0s 3ms/step - loss: 0.4693 - accuracy: 0.7970 - val_loss: 0.4796 - val_accuracy: 0.7887\n",
            "Epoch 17/100\n",
            "56/56 [==============================] - 0s 3ms/step - loss: 0.4662 - accuracy: 0.7970 - val_loss: 0.4769 - val_accuracy: 0.7887\n",
            "Epoch 18/100\n",
            "56/56 [==============================] - 0s 3ms/step - loss: 0.4631 - accuracy: 0.7970 - val_loss: 0.4740 - val_accuracy: 0.7887\n",
            "Epoch 19/100\n",
            "56/56 [==============================] - 0s 3ms/step - loss: 0.4597 - accuracy: 0.7970 - val_loss: 0.4712 - val_accuracy: 0.7887\n",
            "Epoch 20/100\n",
            "56/56 [==============================] - 0s 3ms/step - loss: 0.4564 - accuracy: 0.7970 - val_loss: 0.4681 - val_accuracy: 0.7887\n",
            "Epoch 21/100\n",
            "56/56 [==============================] - 0s 3ms/step - loss: 0.4529 - accuracy: 0.7970 - val_loss: 0.4651 - val_accuracy: 0.7887\n",
            "Epoch 22/100\n",
            "56/56 [==============================] - 0s 3ms/step - loss: 0.4496 - accuracy: 0.7970 - val_loss: 0.4626 - val_accuracy: 0.7887\n",
            "Epoch 23/100\n",
            "56/56 [==============================] - 0s 3ms/step - loss: 0.4463 - accuracy: 0.7970 - val_loss: 0.4598 - val_accuracy: 0.7887\n",
            "Epoch 24/100\n",
            "56/56 [==============================] - 0s 3ms/step - loss: 0.4431 - accuracy: 0.7970 - val_loss: 0.4569 - val_accuracy: 0.7887\n",
            "Epoch 25/100\n",
            "56/56 [==============================] - 0s 3ms/step - loss: 0.4398 - accuracy: 0.7970 - val_loss: 0.4543 - val_accuracy: 0.7887\n",
            "Epoch 26/100\n",
            "56/56 [==============================] - 0s 3ms/step - loss: 0.4366 - accuracy: 0.7970 - val_loss: 0.4517 - val_accuracy: 0.7887\n",
            "Epoch 27/100\n",
            "56/56 [==============================] - 0s 3ms/step - loss: 0.4334 - accuracy: 0.7970 - val_loss: 0.4489 - val_accuracy: 0.7887\n",
            "Epoch 28/100\n",
            "56/56 [==============================] - 0s 3ms/step - loss: 0.4303 - accuracy: 0.7970 - val_loss: 0.4466 - val_accuracy: 0.7887\n",
            "Epoch 29/100\n",
            "56/56 [==============================] - 0s 3ms/step - loss: 0.4274 - accuracy: 0.7970 - val_loss: 0.4444 - val_accuracy: 0.7887\n",
            "Epoch 30/100\n",
            "56/56 [==============================] - 0s 3ms/step - loss: 0.4248 - accuracy: 0.7970 - val_loss: 0.4425 - val_accuracy: 0.7887\n",
            "Epoch 31/100\n",
            "56/56 [==============================] - 0s 3ms/step - loss: 0.4223 - accuracy: 0.7970 - val_loss: 0.4407 - val_accuracy: 0.7887\n",
            "Epoch 32/100\n",
            "56/56 [==============================] - 0s 3ms/step - loss: 0.4200 - accuracy: 0.7970 - val_loss: 0.4387 - val_accuracy: 0.7887\n",
            "Epoch 33/100\n",
            "56/56 [==============================] - 0s 3ms/step - loss: 0.4178 - accuracy: 0.7970 - val_loss: 0.4373 - val_accuracy: 0.7887\n",
            "Epoch 34/100\n",
            "56/56 [==============================] - 0s 3ms/step - loss: 0.4156 - accuracy: 0.7970 - val_loss: 0.4353 - val_accuracy: 0.7887\n",
            "Epoch 35/100\n",
            "56/56 [==============================] - 0s 3ms/step - loss: 0.4135 - accuracy: 0.7970 - val_loss: 0.4339 - val_accuracy: 0.7887\n",
            "Epoch 36/100\n",
            "56/56 [==============================] - 0s 3ms/step - loss: 0.4115 - accuracy: 0.7970 - val_loss: 0.4326 - val_accuracy: 0.7887\n",
            "Epoch 37/100\n",
            "56/56 [==============================] - 0s 3ms/step - loss: 0.4098 - accuracy: 0.7970 - val_loss: 0.4317 - val_accuracy: 0.7887\n",
            "Epoch 38/100\n",
            "56/56 [==============================] - 0s 3ms/step - loss: 0.4082 - accuracy: 0.7970 - val_loss: 0.4304 - val_accuracy: 0.7887\n",
            "Epoch 39/100\n",
            "56/56 [==============================] - 0s 3ms/step - loss: 0.4068 - accuracy: 0.7970 - val_loss: 0.4293 - val_accuracy: 0.7887\n",
            "Epoch 40/100\n",
            "56/56 [==============================] - 0s 3ms/step - loss: 0.4054 - accuracy: 0.7970 - val_loss: 0.4282 - val_accuracy: 0.7887\n",
            "Epoch 41/100\n",
            "56/56 [==============================] - 0s 3ms/step - loss: 0.4040 - accuracy: 0.7970 - val_loss: 0.4273 - val_accuracy: 0.7887\n",
            "Epoch 42/100\n",
            "56/56 [==============================] - 0s 3ms/step - loss: 0.4027 - accuracy: 0.7970 - val_loss: 0.4263 - val_accuracy: 0.7887\n",
            "Epoch 43/100\n",
            "56/56 [==============================] - 0s 3ms/step - loss: 0.4014 - accuracy: 0.7970 - val_loss: 0.4256 - val_accuracy: 0.7887\n",
            "Epoch 44/100\n",
            "56/56 [==============================] - 0s 3ms/step - loss: 0.4003 - accuracy: 0.7970 - val_loss: 0.4248 - val_accuracy: 0.7887\n",
            "Epoch 45/100\n",
            "56/56 [==============================] - 0s 3ms/step - loss: 0.3991 - accuracy: 0.7970 - val_loss: 0.4238 - val_accuracy: 0.7887\n",
            "Epoch 46/100\n",
            "56/56 [==============================] - 0s 3ms/step - loss: 0.3981 - accuracy: 0.7970 - val_loss: 0.4229 - val_accuracy: 0.7887\n",
            "Epoch 47/100\n",
            "56/56 [==============================] - 0s 3ms/step - loss: 0.3969 - accuracy: 0.7970 - val_loss: 0.4223 - val_accuracy: 0.7887\n",
            "Epoch 48/100\n",
            "56/56 [==============================] - 0s 3ms/step - loss: 0.3959 - accuracy: 0.7970 - val_loss: 0.4216 - val_accuracy: 0.7887\n",
            "Epoch 49/100\n",
            "56/56 [==============================] - 0s 3ms/step - loss: 0.3949 - accuracy: 0.7970 - val_loss: 0.4208 - val_accuracy: 0.7887\n",
            "Epoch 50/100\n",
            "56/56 [==============================] - 0s 3ms/step - loss: 0.3940 - accuracy: 0.7970 - val_loss: 0.4202 - val_accuracy: 0.7887\n",
            "Epoch 51/100\n",
            "56/56 [==============================] - 0s 3ms/step - loss: 0.3932 - accuracy: 0.7970 - val_loss: 0.4195 - val_accuracy: 0.7887\n",
            "Epoch 52/100\n",
            "56/56 [==============================] - 0s 3ms/step - loss: 0.3922 - accuracy: 0.7970 - val_loss: 0.4190 - val_accuracy: 0.7887\n",
            "Epoch 53/100\n",
            "56/56 [==============================] - 0s 3ms/step - loss: 0.3914 - accuracy: 0.7970 - val_loss: 0.4185 - val_accuracy: 0.7887\n",
            "Epoch 54/100\n",
            "56/56 [==============================] - 0s 3ms/step - loss: 0.3906 - accuracy: 0.7970 - val_loss: 0.4178 - val_accuracy: 0.7887\n",
            "Epoch 55/100\n",
            "56/56 [==============================] - 0s 3ms/step - loss: 0.3898 - accuracy: 0.7970 - val_loss: 0.4173 - val_accuracy: 0.7887\n",
            "Epoch 56/100\n",
            "56/56 [==============================] - 0s 3ms/step - loss: 0.3890 - accuracy: 0.7970 - val_loss: 0.4168 - val_accuracy: 0.7887\n",
            "Epoch 57/100\n",
            "56/56 [==============================] - 0s 3ms/step - loss: 0.3884 - accuracy: 0.7970 - val_loss: 0.4162 - val_accuracy: 0.7887\n",
            "Epoch 58/100\n",
            "56/56 [==============================] - 0s 3ms/step - loss: 0.3877 - accuracy: 0.7970 - val_loss: 0.4158 - val_accuracy: 0.7887\n",
            "Epoch 59/100\n",
            "56/56 [==============================] - 0s 3ms/step - loss: 0.3870 - accuracy: 0.7970 - val_loss: 0.4152 - val_accuracy: 0.7887\n",
            "Epoch 60/100\n",
            "56/56 [==============================] - 0s 3ms/step - loss: 0.3864 - accuracy: 0.7970 - val_loss: 0.4149 - val_accuracy: 0.7887\n",
            "Epoch 61/100\n",
            "56/56 [==============================] - 0s 3ms/step - loss: 0.3857 - accuracy: 0.7970 - val_loss: 0.4142 - val_accuracy: 0.7887\n",
            "Epoch 62/100\n",
            "56/56 [==============================] - 0s 3ms/step - loss: 0.3850 - accuracy: 0.7970 - val_loss: 0.4136 - val_accuracy: 0.7887\n",
            "Epoch 63/100\n",
            "56/56 [==============================] - 0s 3ms/step - loss: 0.3844 - accuracy: 0.7970 - val_loss: 0.4131 - val_accuracy: 0.7887\n",
            "Epoch 64/100\n",
            "56/56 [==============================] - 0s 3ms/step - loss: 0.3837 - accuracy: 0.7970 - val_loss: 0.4128 - val_accuracy: 0.7887\n",
            "Epoch 65/100\n",
            "56/56 [==============================] - 0s 3ms/step - loss: 0.3830 - accuracy: 0.7970 - val_loss: 0.4121 - val_accuracy: 0.7887\n",
            "Epoch 66/100\n",
            "56/56 [==============================] - 0s 3ms/step - loss: 0.3824 - accuracy: 0.7970 - val_loss: 0.4116 - val_accuracy: 0.7887\n",
            "Epoch 67/100\n",
            "56/56 [==============================] - 0s 3ms/step - loss: 0.3818 - accuracy: 0.8062 - val_loss: 0.4111 - val_accuracy: 0.8121\n",
            "Epoch 68/100\n",
            "56/56 [==============================] - 0s 3ms/step - loss: 0.3813 - accuracy: 0.8186 - val_loss: 0.4109 - val_accuracy: 0.8112\n",
            "Epoch 69/100\n",
            "56/56 [==============================] - 0s 3ms/step - loss: 0.3808 - accuracy: 0.8196 - val_loss: 0.4105 - val_accuracy: 0.8121\n",
            "Epoch 70/100\n",
            "56/56 [==============================] - 0s 3ms/step - loss: 0.3803 - accuracy: 0.8207 - val_loss: 0.4099 - val_accuracy: 0.8112\n",
            "Epoch 71/100\n",
            "56/56 [==============================] - 0s 3ms/step - loss: 0.3798 - accuracy: 0.8214 - val_loss: 0.4097 - val_accuracy: 0.8117\n",
            "Epoch 72/100\n",
            "56/56 [==============================] - 0s 3ms/step - loss: 0.3794 - accuracy: 0.8213 - val_loss: 0.4092 - val_accuracy: 0.8129\n",
            "Epoch 73/100\n",
            "56/56 [==============================] - 0s 3ms/step - loss: 0.3790 - accuracy: 0.8225 - val_loss: 0.4089 - val_accuracy: 0.8142\n",
            "Epoch 74/100\n",
            "56/56 [==============================] - 0s 3ms/step - loss: 0.3785 - accuracy: 0.8227 - val_loss: 0.4082 - val_accuracy: 0.8150\n",
            "Epoch 75/100\n",
            "56/56 [==============================] - 0s 3ms/step - loss: 0.3780 - accuracy: 0.8236 - val_loss: 0.4080 - val_accuracy: 0.8158\n",
            "Epoch 76/100\n",
            "56/56 [==============================] - 0s 3ms/step - loss: 0.3776 - accuracy: 0.8238 - val_loss: 0.4076 - val_accuracy: 0.8158\n",
            "Epoch 77/100\n",
            "56/56 [==============================] - 0s 3ms/step - loss: 0.3772 - accuracy: 0.8241 - val_loss: 0.4073 - val_accuracy: 0.8171\n",
            "Epoch 78/100\n",
            "56/56 [==============================] - 0s 3ms/step - loss: 0.3768 - accuracy: 0.8250 - val_loss: 0.4066 - val_accuracy: 0.8171\n",
            "Epoch 79/100\n",
            "56/56 [==============================] - 0s 3ms/step - loss: 0.3763 - accuracy: 0.8264 - val_loss: 0.4064 - val_accuracy: 0.8167\n",
            "Epoch 80/100\n",
            "56/56 [==============================] - 0s 3ms/step - loss: 0.3760 - accuracy: 0.8270 - val_loss: 0.4059 - val_accuracy: 0.8171\n",
            "Epoch 81/100\n",
            "56/56 [==============================] - 0s 3ms/step - loss: 0.3755 - accuracy: 0.8288 - val_loss: 0.4056 - val_accuracy: 0.8175\n",
            "Epoch 82/100\n",
            "56/56 [==============================] - 0s 3ms/step - loss: 0.3752 - accuracy: 0.8275 - val_loss: 0.4054 - val_accuracy: 0.8196\n",
            "Epoch 83/100\n",
            "56/56 [==============================] - 0s 3ms/step - loss: 0.3747 - accuracy: 0.8295 - val_loss: 0.4048 - val_accuracy: 0.8183\n",
            "Epoch 84/100\n",
            "56/56 [==============================] - 0s 3ms/step - loss: 0.3745 - accuracy: 0.8309 - val_loss: 0.4046 - val_accuracy: 0.8204\n",
            "Epoch 85/100\n",
            "56/56 [==============================] - 0s 3ms/step - loss: 0.3740 - accuracy: 0.8327 - val_loss: 0.4042 - val_accuracy: 0.8208\n",
            "Epoch 86/100\n",
            "56/56 [==============================] - 0s 3ms/step - loss: 0.3736 - accuracy: 0.8320 - val_loss: 0.4041 - val_accuracy: 0.8213\n",
            "Epoch 87/100\n",
            "56/56 [==============================] - 0s 3ms/step - loss: 0.3733 - accuracy: 0.8320 - val_loss: 0.4035 - val_accuracy: 0.8221\n",
            "Epoch 88/100\n",
            "56/56 [==============================] - 0s 3ms/step - loss: 0.3729 - accuracy: 0.8343 - val_loss: 0.4031 - val_accuracy: 0.8217\n",
            "Epoch 89/100\n",
            "56/56 [==============================] - 0s 3ms/step - loss: 0.3726 - accuracy: 0.8343 - val_loss: 0.4030 - val_accuracy: 0.8233\n",
            "Epoch 90/100\n",
            "56/56 [==============================] - 0s 3ms/step - loss: 0.3722 - accuracy: 0.8354 - val_loss: 0.4026 - val_accuracy: 0.8242\n",
            "Epoch 91/100\n",
            "56/56 [==============================] - 0s 3ms/step - loss: 0.3718 - accuracy: 0.8364 - val_loss: 0.4023 - val_accuracy: 0.8233\n",
            "Epoch 92/100\n",
            "56/56 [==============================] - 0s 3ms/step - loss: 0.3716 - accuracy: 0.8375 - val_loss: 0.4018 - val_accuracy: 0.8254\n",
            "Epoch 93/100\n",
            "56/56 [==============================] - 0s 3ms/step - loss: 0.3712 - accuracy: 0.8366 - val_loss: 0.4018 - val_accuracy: 0.8242\n",
            "Epoch 94/100\n",
            "56/56 [==============================] - 0s 3ms/step - loss: 0.3710 - accuracy: 0.8375 - val_loss: 0.4011 - val_accuracy: 0.8254\n",
            "Epoch 95/100\n",
            "56/56 [==============================] - 0s 3ms/step - loss: 0.3706 - accuracy: 0.8384 - val_loss: 0.4009 - val_accuracy: 0.8263\n",
            "Epoch 96/100\n",
            "56/56 [==============================] - 0s 3ms/step - loss: 0.3703 - accuracy: 0.8395 - val_loss: 0.4009 - val_accuracy: 0.8250\n",
            "Epoch 97/100\n",
            "56/56 [==============================] - 0s 3ms/step - loss: 0.3700 - accuracy: 0.8402 - val_loss: 0.4004 - val_accuracy: 0.8271\n",
            "Epoch 98/100\n",
            "56/56 [==============================] - 0s 3ms/step - loss: 0.3697 - accuracy: 0.8393 - val_loss: 0.4001 - val_accuracy: 0.8267\n",
            "Epoch 99/100\n",
            "56/56 [==============================] - 0s 3ms/step - loss: 0.3693 - accuracy: 0.8413 - val_loss: 0.3999 - val_accuracy: 0.8279\n",
            "Epoch 100/100\n",
            "56/56 [==============================] - 0s 3ms/step - loss: 0.3691 - accuracy: 0.8407 - val_loss: 0.3995 - val_accuracy: 0.8288\n"
          ],
          "name": "stdout"
        }
      ]
    },
    {
      "cell_type": "code",
      "metadata": {
        "id": "1Sy0H8iPLKLz",
        "colab_type": "code",
        "colab": {
          "base_uri": "https://localhost:8080/",
          "height": 51
        },
        "outputId": "38ab9e10-d358-4528-df74-11507fab8c31"
      },
      "source": [
        "#Making the predicions and evaluting the model\n",
        "y_pred=classifier.predict(x_test)\n",
        "y_pred[:2]"
      ],
      "execution_count": 32,
      "outputs": [
        {
          "output_type": "execute_result",
          "data": {
            "text/plain": [
              "array([[0.05235502],\n",
              "       [0.0253109 ]], dtype=float32)"
            ]
          },
          "metadata": {
            "tags": []
          },
          "execution_count": 32
        }
      ]
    },
    {
      "cell_type": "code",
      "metadata": {
        "id": "dSLN0U_xNROw",
        "colab_type": "code",
        "colab": {}
      },
      "source": [
        "y_pred=y_pred>0.5"
      ],
      "execution_count": 35,
      "outputs": []
    },
    {
      "cell_type": "code",
      "metadata": {
        "id": "q6sdbdfDL4U5",
        "colab_type": "code",
        "colab": {
          "base_uri": "https://localhost:8080/",
          "height": 51
        },
        "outputId": "8b612b5a-68de-4f9f-e873-b6f18f4ca6d5"
      },
      "source": [
        "#Making the confusion matrix\n",
        "from sklearn.metrics import confusion_matrix\n",
        "print(confusion_matrix(y_test,y_pred))"
      ],
      "execution_count": 36,
      "outputs": [
        {
          "output_type": "stream",
          "text": [
            "[[1515   92]\n",
            " [ 227  166]]\n"
          ],
          "name": "stdout"
        }
      ]
    },
    {
      "cell_type": "code",
      "metadata": {
        "id": "6DcgPZVqMItb",
        "colab_type": "code",
        "colab": {
          "base_uri": "https://localhost:8080/",
          "height": 170
        },
        "outputId": "3fc54f92-1c56-4185-8b9e-439cec90bae7"
      },
      "source": [
        "#Making classification report\n",
        "from sklearn.metrics import classification_report\n",
        "print(classification_report(y_test,y_pred))"
      ],
      "execution_count": 37,
      "outputs": [
        {
          "output_type": "stream",
          "text": [
            "              precision    recall  f1-score   support\n",
            "\n",
            "           0       0.87      0.94      0.90      1607\n",
            "           1       0.64      0.42      0.51       393\n",
            "\n",
            "    accuracy                           0.84      2000\n",
            "   macro avg       0.76      0.68      0.71      2000\n",
            "weighted avg       0.83      0.84      0.83      2000\n",
            "\n"
          ],
          "name": "stdout"
        }
      ]
    },
    {
      "cell_type": "code",
      "metadata": {
        "id": "1ioqJJSZN01F",
        "colab_type": "code",
        "colab": {
          "base_uri": "https://localhost:8080/",
          "height": 34
        },
        "outputId": "89e02565-d920-426c-a3f9-d98b937f5199"
      },
      "source": [
        "#Accuracy\n",
        "from sklearn.metrics import accuracy_score\n",
        "print(accuracy_score(y_test,y_pred))"
      ],
      "execution_count": 38,
      "outputs": [
        {
          "output_type": "stream",
          "text": [
            "0.8405\n"
          ],
          "name": "stdout"
        }
      ]
    },
    {
      "cell_type": "code",
      "metadata": {
        "id": "ErSYahISOBpk",
        "colab_type": "code",
        "colab": {}
      },
      "source": [
        ""
      ],
      "execution_count": null,
      "outputs": []
    }
  ]
}