{
  "nbformat": 4,
  "nbformat_minor": 0,
  "metadata": {
    "colab": {
      "name": "Malaria Detection.ipynb",
      "provenance": []
    },
    "kernelspec": {
      "name": "python3",
      "display_name": "Python 3"
    },
    "accelerator": "GPU"
  },
  "cells": [
    {
      "cell_type": "markdown",
      "metadata": {
        "id": "5ISCNyhqA2sw"
      },
      "source": [
        "### **Malaria Detection**"
      ]
    },
    {
      "cell_type": "code",
      "metadata": {
        "id": "EVmXLSbgwF-Z"
      },
      "source": [
        "#Import the libraries\n",
        "from tensorflow.keras.layers import Input, Lambda, Dense, Flatten,Conv2D\n",
        "from tensorflow.keras.models import Model\n",
        "from tensorflow.keras.applications.vgg19 import VGG19\n",
        "from tensorflow.keras.applications.resnet50 import preprocess_input\n",
        "from tensorflow.keras.preprocessing import image\n",
        "from tensorflow.keras.preprocessing.image import ImageDataGenerator,load_img\n",
        "from tensorflow.keras.models import Sequential\n",
        "import numpy as np\n",
        "from glob import glob\n",
        "import matplotlib.pyplot as plt"
      ],
      "execution_count": 1,
      "outputs": []
    },
    {
      "cell_type": "code",
      "metadata": {
        "id": "5xTazgUXx7iI",
        "outputId": "f4191292-5421-4a65-b61e-90219dd72b32",
        "colab": {
          "base_uri": "https://localhost:8080/"
        }
      },
      "source": [
        "#unzip the zile\n",
        "from zipfile import ZipFile\n",
        "file_name='/Dataset.zip'\n",
        "\n",
        "with ZipFile(file_name,'r') as zip:\n",
        "  zip.extractall()\n",
        "  print('Done')"
      ],
      "execution_count": 6,
      "outputs": [
        {
          "output_type": "stream",
          "text": [
            "Done\n"
          ],
          "name": "stdout"
        }
      ]
    },
    {
      "cell_type": "code",
      "metadata": {
        "id": "XwXGg1Sn0FKH"
      },
      "source": [
        "#Re-size the all images to this\n",
        "IMAGE_SIZE=[224,224]\n",
        "\n",
        "train_path='/content/Dataset/Train'\n",
        "test_path='/content/Dataset/Test'"
      ],
      "execution_count": 7,
      "outputs": []
    },
    {
      "cell_type": "code",
      "metadata": {
        "id": "dy4jwuFQ1kUc",
        "outputId": "573d5660-2d4f-4df4-e2b4-717f281c08fe",
        "colab": {
          "base_uri": "https://localhost:8080/"
        }
      },
      "source": [
        "#Import the vgg19 library as shwn below\n",
        "#Here we will be using imagnet weigths\n",
        "vgg19=VGG19(input_shape=IMAGE_SIZE +[3], weights='imagenet',include_top=False)"
      ],
      "execution_count": 10,
      "outputs": [
        {
          "output_type": "stream",
          "text": [
            "Downloading data from https://storage.googleapis.com/tensorflow/keras-applications/vgg19/vgg19_weights_tf_dim_ordering_tf_kernels_notop.h5\n",
            "80142336/80134624 [==============================] - 1s 0us/step\n"
          ],
          "name": "stdout"
        }
      ]
    },
    {
      "cell_type": "code",
      "metadata": {
        "id": "xguKfyWK2WZp",
        "outputId": "f4795d10-3b55-49b9-809c-7caa23bfa24a",
        "colab": {
          "base_uri": "https://localhost:8080/"
        }
      },
      "source": [
        "vgg19.summary()"
      ],
      "execution_count": 12,
      "outputs": [
        {
          "output_type": "stream",
          "text": [
            "Model: \"vgg19\"\n",
            "_________________________________________________________________\n",
            "Layer (type)                 Output Shape              Param #   \n",
            "=================================================================\n",
            "input_1 (InputLayer)         [(None, 224, 224, 3)]     0         \n",
            "_________________________________________________________________\n",
            "block1_conv1 (Conv2D)        (None, 224, 224, 64)      1792      \n",
            "_________________________________________________________________\n",
            "block1_conv2 (Conv2D)        (None, 224, 224, 64)      36928     \n",
            "_________________________________________________________________\n",
            "block1_pool (MaxPooling2D)   (None, 112, 112, 64)      0         \n",
            "_________________________________________________________________\n",
            "block2_conv1 (Conv2D)        (None, 112, 112, 128)     73856     \n",
            "_________________________________________________________________\n",
            "block2_conv2 (Conv2D)        (None, 112, 112, 128)     147584    \n",
            "_________________________________________________________________\n",
            "block2_pool (MaxPooling2D)   (None, 56, 56, 128)       0         \n",
            "_________________________________________________________________\n",
            "block3_conv1 (Conv2D)        (None, 56, 56, 256)       295168    \n",
            "_________________________________________________________________\n",
            "block3_conv2 (Conv2D)        (None, 56, 56, 256)       590080    \n",
            "_________________________________________________________________\n",
            "block3_conv3 (Conv2D)        (None, 56, 56, 256)       590080    \n",
            "_________________________________________________________________\n",
            "block3_conv4 (Conv2D)        (None, 56, 56, 256)       590080    \n",
            "_________________________________________________________________\n",
            "block3_pool (MaxPooling2D)   (None, 28, 28, 256)       0         \n",
            "_________________________________________________________________\n",
            "block4_conv1 (Conv2D)        (None, 28, 28, 512)       1180160   \n",
            "_________________________________________________________________\n",
            "block4_conv2 (Conv2D)        (None, 28, 28, 512)       2359808   \n",
            "_________________________________________________________________\n",
            "block4_conv3 (Conv2D)        (None, 28, 28, 512)       2359808   \n",
            "_________________________________________________________________\n",
            "block4_conv4 (Conv2D)        (None, 28, 28, 512)       2359808   \n",
            "_________________________________________________________________\n",
            "block4_pool (MaxPooling2D)   (None, 14, 14, 512)       0         \n",
            "_________________________________________________________________\n",
            "block5_conv1 (Conv2D)        (None, 14, 14, 512)       2359808   \n",
            "_________________________________________________________________\n",
            "block5_conv2 (Conv2D)        (None, 14, 14, 512)       2359808   \n",
            "_________________________________________________________________\n",
            "block5_conv3 (Conv2D)        (None, 14, 14, 512)       2359808   \n",
            "_________________________________________________________________\n",
            "block5_conv4 (Conv2D)        (None, 14, 14, 512)       2359808   \n",
            "_________________________________________________________________\n",
            "block5_pool (MaxPooling2D)   (None, 7, 7, 512)         0         \n",
            "=================================================================\n",
            "Total params: 20,024,384\n",
            "Trainable params: 20,024,384\n",
            "Non-trainable params: 0\n",
            "_________________________________________________________________\n"
          ],
          "name": "stdout"
        }
      ]
    },
    {
      "cell_type": "code",
      "metadata": {
        "id": "qObqhWLh4XXu"
      },
      "source": [
        "#don't train the wxisting weights\n",
        "for layer in vgg19.layers:\n",
        "  layer.trainable=False"
      ],
      "execution_count": 13,
      "outputs": []
    },
    {
      "cell_type": "code",
      "metadata": {
        "id": "mnY00fip6foX"
      },
      "source": [
        "#Output classes\n",
        "folder=glob('/content/Dataset/Train/*')"
      ],
      "execution_count": 16,
      "outputs": []
    },
    {
      "cell_type": "code",
      "metadata": {
        "id": "ywymC6Uu6xZe",
        "outputId": "8e8b1096-674c-4769-ae6c-8e9b2be91d39",
        "colab": {
          "base_uri": "https://localhost:8080/"
        }
      },
      "source": [
        "folder"
      ],
      "execution_count": 17,
      "outputs": [
        {
          "output_type": "execute_result",
          "data": {
            "text/plain": [
              "['/content/Dataset/Train/Parasite', '/content/Dataset/Train/Uninfected']"
            ]
          },
          "metadata": {
            "tags": []
          },
          "execution_count": 17
        }
      ]
    },
    {
      "cell_type": "code",
      "metadata": {
        "id": "nyykXfXg6yWf"
      },
      "source": [
        "x=Flatten()(vgg19.output)"
      ],
      "execution_count": 18,
      "outputs": []
    },
    {
      "cell_type": "code",
      "metadata": {
        "id": "RGOQc-V57FbL"
      },
      "source": [
        "prediction=Dense(len(folder),activation='softmax')(x)\n",
        "\n",
        "#create a model object\n",
        "model=Model(inputs=vgg19.input,outputs=prediction)"
      ],
      "execution_count": 21,
      "outputs": []
    },
    {
      "cell_type": "code",
      "metadata": {
        "id": "bbTEoo_q7fXY",
        "outputId": "60f846d9-1eea-4813-cb48-f5afd906f6ba",
        "colab": {
          "base_uri": "https://localhost:8080/"
        }
      },
      "source": [
        "#view the structure of model\n",
        "model.summary()"
      ],
      "execution_count": 22,
      "outputs": [
        {
          "output_type": "stream",
          "text": [
            "Model: \"functional_1\"\n",
            "_________________________________________________________________\n",
            "Layer (type)                 Output Shape              Param #   \n",
            "=================================================================\n",
            "input_1 (InputLayer)         [(None, 224, 224, 3)]     0         \n",
            "_________________________________________________________________\n",
            "block1_conv1 (Conv2D)        (None, 224, 224, 64)      1792      \n",
            "_________________________________________________________________\n",
            "block1_conv2 (Conv2D)        (None, 224, 224, 64)      36928     \n",
            "_________________________________________________________________\n",
            "block1_pool (MaxPooling2D)   (None, 112, 112, 64)      0         \n",
            "_________________________________________________________________\n",
            "block2_conv1 (Conv2D)        (None, 112, 112, 128)     73856     \n",
            "_________________________________________________________________\n",
            "block2_conv2 (Conv2D)        (None, 112, 112, 128)     147584    \n",
            "_________________________________________________________________\n",
            "block2_pool (MaxPooling2D)   (None, 56, 56, 128)       0         \n",
            "_________________________________________________________________\n",
            "block3_conv1 (Conv2D)        (None, 56, 56, 256)       295168    \n",
            "_________________________________________________________________\n",
            "block3_conv2 (Conv2D)        (None, 56, 56, 256)       590080    \n",
            "_________________________________________________________________\n",
            "block3_conv3 (Conv2D)        (None, 56, 56, 256)       590080    \n",
            "_________________________________________________________________\n",
            "block3_conv4 (Conv2D)        (None, 56, 56, 256)       590080    \n",
            "_________________________________________________________________\n",
            "block3_pool (MaxPooling2D)   (None, 28, 28, 256)       0         \n",
            "_________________________________________________________________\n",
            "block4_conv1 (Conv2D)        (None, 28, 28, 512)       1180160   \n",
            "_________________________________________________________________\n",
            "block4_conv2 (Conv2D)        (None, 28, 28, 512)       2359808   \n",
            "_________________________________________________________________\n",
            "block4_conv3 (Conv2D)        (None, 28, 28, 512)       2359808   \n",
            "_________________________________________________________________\n",
            "block4_conv4 (Conv2D)        (None, 28, 28, 512)       2359808   \n",
            "_________________________________________________________________\n",
            "block4_pool (MaxPooling2D)   (None, 14, 14, 512)       0         \n",
            "_________________________________________________________________\n",
            "block5_conv1 (Conv2D)        (None, 14, 14, 512)       2359808   \n",
            "_________________________________________________________________\n",
            "block5_conv2 (Conv2D)        (None, 14, 14, 512)       2359808   \n",
            "_________________________________________________________________\n",
            "block5_conv3 (Conv2D)        (None, 14, 14, 512)       2359808   \n",
            "_________________________________________________________________\n",
            "block5_conv4 (Conv2D)        (None, 14, 14, 512)       2359808   \n",
            "_________________________________________________________________\n",
            "block5_pool (MaxPooling2D)   (None, 7, 7, 512)         0         \n",
            "_________________________________________________________________\n",
            "flatten (Flatten)            (None, 25088)             0         \n",
            "_________________________________________________________________\n",
            "dense_1 (Dense)              (None, 2)                 50178     \n",
            "=================================================================\n",
            "Total params: 20,074,562\n",
            "Trainable params: 50,178\n",
            "Non-trainable params: 20,024,384\n",
            "_________________________________________________________________\n"
          ],
          "name": "stdout"
        }
      ]
    },
    {
      "cell_type": "code",
      "metadata": {
        "id": "yfyhgYvL7qiB"
      },
      "source": [
        "from tensorflow.keras.layers import MaxPooling2D"
      ],
      "execution_count": 23,
      "outputs": []
    },
    {
      "cell_type": "code",
      "metadata": {
        "id": "xM4kHjaS8CsA",
        "outputId": "77731864-539c-4c0e-f0be-a4a157728422",
        "colab": {
          "base_uri": "https://localhost:8080/"
        }
      },
      "source": [
        "#Create a model from scratch\n",
        "\n",
        "### Create Model from scratch using CNN\n",
        "model=Sequential()\n",
        "model.add(Conv2D(filters=16,kernel_size=2,padding=\"same\",activation=\"relu\",input_shape=(224,224,3)))\n",
        "model.add(MaxPooling2D(pool_size=2))\n",
        "model.add(Conv2D(filters=32,kernel_size=2,padding=\"same\",activation =\"relu\"))\n",
        "model.add(MaxPooling2D(pool_size=2))\n",
        "model.add(Conv2D(filters=64,kernel_size=2,padding=\"same\",activation=\"relu\"))\n",
        "model.add(MaxPooling2D(pool_size=2))\n",
        "model.add(Flatten())\n",
        "model.add(Dense(500,activation=\"relu\"))\n",
        "model.add(Dense(2,activation=\"softmax\"))\n",
        "model.summary()"
      ],
      "execution_count": 24,
      "outputs": [
        {
          "output_type": "stream",
          "text": [
            "Model: \"sequential\"\n",
            "_________________________________________________________________\n",
            "Layer (type)                 Output Shape              Param #   \n",
            "=================================================================\n",
            "conv2d (Conv2D)              (None, 224, 224, 16)      208       \n",
            "_________________________________________________________________\n",
            "max_pooling2d (MaxPooling2D) (None, 112, 112, 16)      0         \n",
            "_________________________________________________________________\n",
            "conv2d_1 (Conv2D)            (None, 112, 112, 32)      2080      \n",
            "_________________________________________________________________\n",
            "max_pooling2d_1 (MaxPooling2 (None, 56, 56, 32)        0         \n",
            "_________________________________________________________________\n",
            "conv2d_2 (Conv2D)            (None, 56, 56, 64)        8256      \n",
            "_________________________________________________________________\n",
            "max_pooling2d_2 (MaxPooling2 (None, 28, 28, 64)        0         \n",
            "_________________________________________________________________\n",
            "flatten_1 (Flatten)          (None, 50176)             0         \n",
            "_________________________________________________________________\n",
            "dense_2 (Dense)              (None, 500)               25088500  \n",
            "_________________________________________________________________\n",
            "dense_3 (Dense)              (None, 2)                 1002      \n",
            "=================================================================\n",
            "Total params: 25,100,046\n",
            "Trainable params: 25,100,046\n",
            "Non-trainable params: 0\n",
            "_________________________________________________________________\n"
          ],
          "name": "stdout"
        }
      ]
    },
    {
      "cell_type": "code",
      "metadata": {
        "id": "9swauwCw8idQ"
      },
      "source": [
        "model.compile(loss='categorical_crossentropy',\n",
        "              optimizer='adam',\n",
        "              metrics=['accuracy'])"
      ],
      "execution_count": 25,
      "outputs": []
    },
    {
      "cell_type": "code",
      "metadata": {
        "id": "o6caGsdZ81qU"
      },
      "source": [
        "#Use the Image data generater to import the images from the dataset\n",
        "from tensorflow.keras.preprocessing.image import ImageDataGenerator\n",
        "\n",
        "train_datagen=ImageDataGenerator(rescale=1./255,\n",
        "                                 shear_range=0.2,\n",
        "                                 zoom_range=0.2,\n",
        "                                 horizontal_flip=True)\n",
        "\n",
        "test_datagen=ImageDataGenerator(rescale=1./255)"
      ],
      "execution_count": 27,
      "outputs": []
    },
    {
      "cell_type": "code",
      "metadata": {
        "id": "onrRas9Y9ixG",
        "outputId": "2b51fdad-4b18-4bb3-cd6c-8cc596d5eb3c",
        "colab": {
          "base_uri": "https://localhost:8080/"
        }
      },
      "source": [
        "#Make sure that you provide the dame target size as Intilized from the image\n",
        "training_set=train_datagen.flow_from_directory('/content/Dataset/Train',target_size=(224,224),batch_size=32,class_mode='categorical')"
      ],
      "execution_count": 28,
      "outputs": [
        {
          "output_type": "stream",
          "text": [
            "Found 416 images belonging to 2 classes.\n"
          ],
          "name": "stdout"
        }
      ]
    },
    {
      "cell_type": "code",
      "metadata": {
        "id": "6ABePhPr-Tfr",
        "outputId": "bc5bb8ef-0429-44a1-c5f4-806c8d46d97c",
        "colab": {
          "base_uri": "https://localhost:8080/"
        }
      },
      "source": [
        "training_set"
      ],
      "execution_count": 29,
      "outputs": [
        {
          "output_type": "execute_result",
          "data": {
            "text/plain": [
              "<tensorflow.python.keras.preprocessing.image.DirectoryIterator at 0x7f5346f663c8>"
            ]
          },
          "metadata": {
            "tags": []
          },
          "execution_count": 29
        }
      ]
    },
    {
      "cell_type": "code",
      "metadata": {
        "id": "3tRO-3iy-vTr",
        "outputId": "fd9d150f-9763-41c5-823e-de40282b0ebd",
        "colab": {
          "base_uri": "https://localhost:8080/"
        }
      },
      "source": [
        "test_set=test_datagen.flow_from_directory('/content/Dataset/Test',target_size=(224,224),batch_size=32,class_mode='categorical')"
      ],
      "execution_count": 30,
      "outputs": [
        {
          "output_type": "stream",
          "text": [
            "Found 134 images belonging to 2 classes.\n"
          ],
          "name": "stdout"
        }
      ]
    },
    {
      "cell_type": "code",
      "metadata": {
        "id": "suvuClgU-4-X",
        "outputId": "da454ce9-73f8-4053-93f5-0236e1badaf6",
        "colab": {
          "base_uri": "https://localhost:8080/"
        }
      },
      "source": [
        "#Fit the model\n",
        "#Run the cell\n",
        "\n",
        "run=model.fit(training_set,validation_data=test_set,epochs=30,steps_per_epoch=len(training_set),validation_steps=len(test_set))"
      ],
      "execution_count": 32,
      "outputs": [
        {
          "output_type": "stream",
          "text": [
            "Epoch 1/30\n",
            "13/13 [==============================] - 4s 324ms/step - loss: 0.6853 - accuracy: 0.5625 - val_loss: 0.6963 - val_accuracy: 0.4552\n",
            "Epoch 2/30\n",
            "13/13 [==============================] - 4s 323ms/step - loss: 0.6745 - accuracy: 0.5769 - val_loss: 0.6803 - val_accuracy: 0.4851\n",
            "Epoch 3/30\n",
            "13/13 [==============================] - 4s 317ms/step - loss: 0.6342 - accuracy: 0.6538 - val_loss: 0.7389 - val_accuracy: 0.3284\n",
            "Epoch 4/30\n",
            "13/13 [==============================] - 4s 315ms/step - loss: 0.5554 - accuracy: 0.6995 - val_loss: 0.8998 - val_accuracy: 0.3433\n",
            "Epoch 5/30\n",
            "13/13 [==============================] - 4s 317ms/step - loss: 0.4939 - accuracy: 0.7356 - val_loss: 0.9884 - val_accuracy: 0.4104\n",
            "Epoch 6/30\n",
            "13/13 [==============================] - 4s 317ms/step - loss: 0.4664 - accuracy: 0.7668 - val_loss: 1.0078 - val_accuracy: 0.4104\n",
            "Epoch 7/30\n",
            "13/13 [==============================] - 4s 316ms/step - loss: 0.4388 - accuracy: 0.7837 - val_loss: 0.9432 - val_accuracy: 0.3881\n",
            "Epoch 8/30\n",
            "13/13 [==============================] - 4s 316ms/step - loss: 0.4522 - accuracy: 0.7740 - val_loss: 0.7975 - val_accuracy: 0.4179\n",
            "Epoch 9/30\n",
            "13/13 [==============================] - 4s 319ms/step - loss: 0.4358 - accuracy: 0.7981 - val_loss: 0.8360 - val_accuracy: 0.4851\n",
            "Epoch 10/30\n",
            "13/13 [==============================] - 4s 318ms/step - loss: 0.3683 - accuracy: 0.8245 - val_loss: 0.7948 - val_accuracy: 0.4701\n",
            "Epoch 11/30\n",
            "13/13 [==============================] - 4s 314ms/step - loss: 0.3428 - accuracy: 0.8486 - val_loss: 1.0168 - val_accuracy: 0.4403\n",
            "Epoch 12/30\n",
            "13/13 [==============================] - 4s 318ms/step - loss: 0.3252 - accuracy: 0.8822 - val_loss: 1.2729 - val_accuracy: 0.5299\n",
            "Epoch 13/30\n",
            "13/13 [==============================] - 4s 316ms/step - loss: 0.3591 - accuracy: 0.8462 - val_loss: 0.8360 - val_accuracy: 0.5224\n",
            "Epoch 14/30\n",
            "13/13 [==============================] - 4s 317ms/step - loss: 0.3368 - accuracy: 0.8510 - val_loss: 0.5985 - val_accuracy: 0.6119\n",
            "Epoch 15/30\n",
            "13/13 [==============================] - 4s 316ms/step - loss: 0.2700 - accuracy: 0.9014 - val_loss: 0.7135 - val_accuracy: 0.5896\n",
            "Epoch 16/30\n",
            "13/13 [==============================] - 4s 314ms/step - loss: 0.2678 - accuracy: 0.9062 - val_loss: 0.8608 - val_accuracy: 0.5597\n",
            "Epoch 17/30\n",
            "13/13 [==============================] - 4s 322ms/step - loss: 0.2442 - accuracy: 0.9207 - val_loss: 0.5041 - val_accuracy: 0.7388\n",
            "Epoch 18/30\n",
            "13/13 [==============================] - 4s 320ms/step - loss: 0.2303 - accuracy: 0.9231 - val_loss: 0.8507 - val_accuracy: 0.6119\n",
            "Epoch 19/30\n",
            "13/13 [==============================] - 4s 322ms/step - loss: 0.3290 - accuracy: 0.8990 - val_loss: 0.4862 - val_accuracy: 0.7388\n",
            "Epoch 20/30\n",
            "13/13 [==============================] - 4s 318ms/step - loss: 0.2320 - accuracy: 0.9183 - val_loss: 0.4959 - val_accuracy: 0.7612\n",
            "Epoch 21/30\n",
            "13/13 [==============================] - 4s 319ms/step - loss: 0.1866 - accuracy: 0.9447 - val_loss: 0.5151 - val_accuracy: 0.6567\n",
            "Epoch 22/30\n",
            "13/13 [==============================] - 4s 315ms/step - loss: 0.1841 - accuracy: 0.9327 - val_loss: 0.4687 - val_accuracy: 0.7388\n",
            "Epoch 23/30\n",
            "13/13 [==============================] - 4s 316ms/step - loss: 0.1826 - accuracy: 0.9399 - val_loss: 0.3614 - val_accuracy: 0.8358\n",
            "Epoch 24/30\n",
            "13/13 [==============================] - 4s 318ms/step - loss: 0.1476 - accuracy: 0.9471 - val_loss: 0.4367 - val_accuracy: 0.7687\n",
            "Epoch 25/30\n",
            "13/13 [==============================] - 4s 314ms/step - loss: 0.1517 - accuracy: 0.9519 - val_loss: 0.3197 - val_accuracy: 0.8582\n",
            "Epoch 26/30\n",
            "13/13 [==============================] - 4s 322ms/step - loss: 0.1413 - accuracy: 0.9567 - val_loss: 0.4901 - val_accuracy: 0.7761\n",
            "Epoch 27/30\n",
            "13/13 [==============================] - 4s 319ms/step - loss: 0.1899 - accuracy: 0.9255 - val_loss: 0.3989 - val_accuracy: 0.8060\n",
            "Epoch 28/30\n",
            "13/13 [==============================] - 4s 319ms/step - loss: 0.1409 - accuracy: 0.9591 - val_loss: 0.3790 - val_accuracy: 0.8060\n",
            "Epoch 29/30\n",
            "13/13 [==============================] - 4s 317ms/step - loss: 0.1062 - accuracy: 0.9760 - val_loss: 0.4405 - val_accuracy: 0.8134\n",
            "Epoch 30/30\n",
            "13/13 [==============================] - 4s 317ms/step - loss: 0.1086 - accuracy: 0.9639 - val_loss: 0.3165 - val_accuracy: 0.8433\n"
          ],
          "name": "stdout"
        }
      ]
    },
    {
      "cell_type": "code",
      "metadata": {
        "id": "tZEkJ9QBAWKr",
        "outputId": "2c03db6f-e104-4f5f-a9be-cb78cd0f4e35",
        "colab": {
          "base_uri": "https://localhost:8080/",
          "height": 532
        }
      },
      "source": [
        "# plot the loss\n",
        "plt.plot(run.history['loss'], label='train loss')\n",
        "plt.plot(run.history['val_loss'], label='val loss')\n",
        "plt.legend()\n",
        "plt.show()\n",
        "plt.savefig('LossVal_loss')\n",
        "\n",
        "# plot the accuracy\n",
        "plt.plot(run.history['accuracy'], label='train acc')\n",
        "plt.plot(run.history['val_accuracy'], label='val acc')\n",
        "plt.legend()\n",
        "plt.show()\n",
        "plt.savefig('AccVal_acc')"
      ],
      "execution_count": 35,
      "outputs": [
        {
          "output_type": "display_data",
          "data": {
            "image/png": "[encoded data removed]",
            "text/plain": [
              "<Figure size 432x288 with 1 Axes>"
            ]
          },
          "metadata": {
            "tags": [],
            "needs_background": "light"
          }
        },
        {
          "output_type": "display_data",
          "data": {
            "image/png": "[encoded data removed]",
            "text/plain": [
              "<Figure size 432x288 with 1 Axes>"
            ]
          },
          "metadata": {
            "tags": [],
            "needs_background": "light"
          }
        },
        {
          "output_type": "display_data",
          "data": {
            "text/plain": [
              "<Figure size 432x288 with 0 Axes>"
            ]
          },
          "metadata": {
            "tags": []
          }
        }
      ]
    },
    {
      "cell_type": "code",
      "metadata": {
        "id": "Zv9w-5pmAk8h"
      },
      "source": [
        "#save it as a h5 file\n",
        "\n",
        "from tensorflow.keras.models import load_model\n",
        "\n",
        "model.save('model_vgg19.h5')"
      ],
      "execution_count": 36,
      "outputs": []
    },
    {
      "cell_type": "code",
      "metadata": {
        "id": "6DOX_OJdBfQv",
        "outputId": "d30f25f7-17b1-4255-8766-d1e73b0ade6f",
        "colab": {
          "base_uri": "https://localhost:8080/"
        }
      },
      "source": [
        "y_pred=model.predict(test_set)\n",
        "y_pred[:9]"
      ],
      "execution_count": 37,
      "outputs": [
        {
          "output_type": "execute_result",
          "data": {
            "text/plain": [
              "array([[0.68637073, 0.3136293 ],\n",
              "       [0.9880558 , 0.01194414],\n",
              "       [0.16865395, 0.8313461 ],\n",
              "       [0.9976318 , 0.00236815],\n",
              "       [0.5576879 , 0.44231218],\n",
              "       [0.08991054, 0.9100895 ],\n",
              "       [0.95723516, 0.04276478],\n",
              "       [0.9955674 , 0.00443262],\n",
              "       [0.29020467, 0.7097953 ]], dtype=float32)"
            ]
          },
          "metadata": {
            "tags": []
          },
          "execution_count": 37
        }
      ]
    },
    {
      "cell_type": "code",
      "metadata": {
        "id": "sLqheM7FBunU"
      },
      "source": [
        "import numpy as np\n",
        "ypred=np.argmax(y_pred,axis=1)"
      ],
      "execution_count": 38,
      "outputs": []
    },
    {
      "cell_type": "code",
      "metadata": {
        "id": "ugjMKfzjCKf4",
        "outputId": "83f6c208-7eb5-4589-9db7-afbf6140170e",
        "colab": {
          "base_uri": "https://localhost:8080/"
        }
      },
      "source": [
        "ypred"
      ],
      "execution_count": 39,
      "outputs": [
        {
          "output_type": "execute_result",
          "data": {
            "text/plain": [
              "array([0, 0, 1, 0, 0, 1, 0, 0, 1, 0, 1, 0, 0, 0, 0, 1, 1, 0, 1, 0, 0, 1,\n",
              "       1, 0, 1, 0, 1, 1, 0, 0, 1, 1, 1, 0, 0, 1, 0, 0, 0, 0, 0, 1, 1, 1,\n",
              "       1, 0, 1, 0, 0, 0, 1, 1, 0, 0, 1, 0, 0, 0, 0, 0, 1, 0, 1, 0, 1, 0,\n",
              "       1, 0, 0, 0, 0, 1, 0, 1, 1, 1, 0, 0, 1, 1, 0, 0, 1, 1, 0, 1, 0, 1,\n",
              "       0, 1, 0, 0, 0, 1, 1, 0, 0, 1, 1, 1, 0, 0, 1, 0, 0, 0, 1, 1, 1, 1,\n",
              "       1, 0, 1, 0, 0, 1, 0, 1, 1, 1, 0, 1, 1, 0, 1, 0, 1, 0, 0, 0, 0, 1,\n",
              "       1, 1])"
            ]
          },
          "metadata": {
            "tags": []
          },
          "execution_count": 39
        }
      ]
    },
    {
      "cell_type": "code",
      "metadata": {
        "id": "7tryN6tkCL68"
      },
      "source": [
        "model=load_model('model_vgg19.h5')"
      ],
      "execution_count": 40,
      "outputs": []
    },
    {
      "cell_type": "code",
      "metadata": {
        "id": "E3Bt1a6vCU9A",
        "outputId": "543223a7-4f2c-4385-c77b-664259423391",
        "colab": {
          "base_uri": "https://localhost:8080/"
        }
      },
      "source": [
        "model.summary()"
      ],
      "execution_count": 41,
      "outputs": [
        {
          "output_type": "stream",
          "text": [
            "Model: \"sequential\"\n",
            "_________________________________________________________________\n",
            "Layer (type)                 Output Shape              Param #   \n",
            "=================================================================\n",
            "conv2d (Conv2D)              (None, 224, 224, 16)      208       \n",
            "_________________________________________________________________\n",
            "max_pooling2d (MaxPooling2D) (None, 112, 112, 16)      0         \n",
            "_________________________________________________________________\n",
            "conv2d_1 (Conv2D)            (None, 112, 112, 32)      2080      \n",
            "_________________________________________________________________\n",
            "max_pooling2d_1 (MaxPooling2 (None, 56, 56, 32)        0         \n",
            "_________________________________________________________________\n",
            "conv2d_2 (Conv2D)            (None, 56, 56, 64)        8256      \n",
            "_________________________________________________________________\n",
            "max_pooling2d_2 (MaxPooling2 (None, 28, 28, 64)        0         \n",
            "_________________________________________________________________\n",
            "flatten_1 (Flatten)          (None, 50176)             0         \n",
            "_________________________________________________________________\n",
            "dense_2 (Dense)              (None, 500)               25088500  \n",
            "_________________________________________________________________\n",
            "dense_3 (Dense)              (None, 2)                 1002      \n",
            "=================================================================\n",
            "Total params: 25,100,046\n",
            "Trainable params: 25,100,046\n",
            "Non-trainable params: 0\n",
            "_________________________________________________________________\n"
          ],
          "name": "stdout"
        }
      ]
    },
    {
      "cell_type": "code",
      "metadata": {
        "id": "_FPpyHB1CW3b"
      },
      "source": [
        "imag=image.load_img('/content/Dataset/Test/Uninfected/C3thin_original_IMG_20150608_163002_cell_159.png',target_size=(224,224))"
      ],
      "execution_count": 84,
      "outputs": []
    },
    {
      "cell_type": "code",
      "metadata": {
        "id": "NEp6Nce-Cq8G"
      },
      "source": [
        "images=image.img_to_array(imag)"
      ],
      "execution_count": 85,
      "outputs": []
    },
    {
      "cell_type": "code",
      "metadata": {
        "id": "hn1-OCtYCwhs",
        "outputId": "a1e765d4-605a-4661-9fe4-be2348f61325",
        "colab": {
          "base_uri": "https://localhost:8080/"
        }
      },
      "source": [
        "images"
      ],
      "execution_count": 86,
      "outputs": [
        {
          "output_type": "execute_result",
          "data": {
            "text/plain": [
              "array([[[0., 0., 0.],\n",
              "        [0., 0., 0.],\n",
              "        [0., 0., 0.],\n",
              "        ...,\n",
              "        [0., 0., 0.],\n",
              "        [0., 0., 0.],\n",
              "        [0., 0., 0.]],\n",
              "\n",
              "       [[0., 0., 0.],\n",
              "        [0., 0., 0.],\n",
              "        [0., 0., 0.],\n",
              "        ...,\n",
              "        [0., 0., 0.],\n",
              "        [0., 0., 0.],\n",
              "        [0., 0., 0.]],\n",
              "\n",
              "       [[0., 0., 0.],\n",
              "        [0., 0., 0.],\n",
              "        [0., 0., 0.],\n",
              "        ...,\n",
              "        [0., 0., 0.],\n",
              "        [0., 0., 0.],\n",
              "        [0., 0., 0.]],\n",
              "\n",
              "       ...,\n",
              "\n",
              "       [[0., 0., 0.],\n",
              "        [0., 0., 0.],\n",
              "        [0., 0., 0.],\n",
              "        ...,\n",
              "        [0., 0., 0.],\n",
              "        [0., 0., 0.],\n",
              "        [0., 0., 0.]],\n",
              "\n",
              "       [[0., 0., 0.],\n",
              "        [0., 0., 0.],\n",
              "        [0., 0., 0.],\n",
              "        ...,\n",
              "        [0., 0., 0.],\n",
              "        [0., 0., 0.],\n",
              "        [0., 0., 0.]],\n",
              "\n",
              "       [[0., 0., 0.],\n",
              "        [0., 0., 0.],\n",
              "        [0., 0., 0.],\n",
              "        ...,\n",
              "        [0., 0., 0.],\n",
              "        [0., 0., 0.],\n",
              "        [0., 0., 0.]]], dtype=float32)"
            ]
          },
          "metadata": {
            "tags": []
          },
          "execution_count": 86
        }
      ]
    },
    {
      "cell_type": "code",
      "metadata": {
        "id": "CgRnxNTUCxWG",
        "outputId": "e708d36a-5acf-4c97-d5e6-f4b2284052a0",
        "colab": {
          "base_uri": "https://localhost:8080/"
        }
      },
      "source": [
        "images.shape"
      ],
      "execution_count": 77,
      "outputs": [
        {
          "output_type": "execute_result",
          "data": {
            "text/plain": [
              "(224, 224, 3)"
            ]
          },
          "metadata": {
            "tags": []
          },
          "execution_count": 77
        }
      ]
    },
    {
      "cell_type": "code",
      "metadata": {
        "id": "-MCglM16C2au"
      },
      "source": [
        "x=images/255"
      ],
      "execution_count": 78,
      "outputs": []
    },
    {
      "cell_type": "code",
      "metadata": {
        "id": "0Yf3XJuZDBTW",
        "outputId": "7790964e-922f-4a14-d6a1-1b7b9f4543e4",
        "colab": {
          "base_uri": "https://localhost:8080/"
        }
      },
      "source": [
        "x=np.expand_dims(x,axis=0)\n",
        "img_data=preprocess_input(x)\n",
        "img_data.shape"
      ],
      "execution_count": 79,
      "outputs": [
        {
          "output_type": "execute_result",
          "data": {
            "text/plain": [
              "(1, 224, 224, 3)"
            ]
          },
          "metadata": {
            "tags": []
          },
          "execution_count": 79
        }
      ]
    },
    {
      "cell_type": "code",
      "metadata": {
        "id": "pq1tx6BfDID1",
        "outputId": "4c1fe261-1048-4623-e575-f181e3c547dd",
        "colab": {
          "base_uri": "https://localhost:8080/"
        }
      },
      "source": [
        "model.predict(img_data)"
      ],
      "execution_count": 80,
      "outputs": [
        {
          "output_type": "execute_result",
          "data": {
            "text/plain": [
              "array([[1., 0.]], dtype=float32)"
            ]
          },
          "metadata": {
            "tags": []
          },
          "execution_count": 80
        }
      ]
    },
    {
      "cell_type": "code",
      "metadata": {
        "id": "eJ4J0FEPDhkQ",
        "outputId": "4e25db1b-fac4-41eb-efb2-da81e1589b6e",
        "colab": {
          "base_uri": "https://localhost:8080/"
        }
      },
      "source": [
        "if (a==1):\n",
        "  print('Uninfected')\n",
        "else:\n",
        "  print('Infected')"
      ],
      "execution_count": 82,
      "outputs": [
        {
          "output_type": "stream",
          "text": [
            "Infected\n"
          ],
          "name": "stdout"
        }
      ]
    },
    {
      "cell_type": "code",
      "metadata": {
        "id": "MSmz4w3rDtic"
      },
      "source": [
        ""
      ],
      "execution_count": null,
      "outputs": []
    }
  ]
}